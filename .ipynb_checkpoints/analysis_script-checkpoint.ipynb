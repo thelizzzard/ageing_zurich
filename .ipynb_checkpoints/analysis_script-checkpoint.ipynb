{
 "cells": [
  {
   "cell_type": "markdown",
   "id": "f05e8396-d780-4148-8b79-2de00f356773",
   "metadata": {},
   "source": [
    "## Analysis Script"
   ]
  },
  {
   "cell_type": "code",
   "execution_count": 17,
   "id": "1c876d66-724d-4fe4-9449-fb404e80de4e",
   "metadata": {},
   "outputs": [
    {
     "name": "stdout",
     "output_type": "stream",
     "text": [
      "/Users/Zita\n"
     ]
    }
   ],
   "source": [
    "# libraries\n",
    "import pandas as pd\n",
    "import os\n",
    "\n",
    "data_path = os.getcwd()\n",
    "print(data_path)\n",
    "\n",
    "# Load data from file\n",
    "# aw = pd.read_csv(\"Datensatz/Alterswohnung/data/stzh.poi_alterswohnung_view.csv\") # load from file\n",
    "# aw.head()"
   ]
  },
  {
   "cell_type": "code",
   "execution_count": null,
   "id": "e1d05940-745f-475d-984a-17ec98e60685",
   "metadata": {},
   "outputs": [],
   "source": []
  }
 ],
 "metadata": {
  "kernelspec": {
   "display_name": "Python 3",
   "language": "python",
   "name": "python3"
  },
  "language_info": {
   "codemirror_mode": {
    "name": "ipython",
    "version": 3
   },
   "file_extension": ".py",
   "mimetype": "text/x-python",
   "name": "python",
   "nbconvert_exporter": "python",
   "pygments_lexer": "ipython3",
   "version": "3.8.8"
  }
 },
 "nbformat": 4,
 "nbformat_minor": 5
}
