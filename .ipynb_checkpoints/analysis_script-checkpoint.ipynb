{
 "cells": [
  {
   "cell_type": "markdown",
   "id": "4b6c344c",
   "metadata": {},
   "source": [
    "## Analysis Script"
   ]
  },
  {
   "cell_type": "code",
   "execution_count": 50,
   "id": "408e3959",
   "metadata": {},
   "outputs": [
    {
     "name": "stdout",
     "output_type": "stream",
     "text": [
      "/Users/Zita/switchdrive/ageing_zurich/ageing_zurich\n"
     ]
    }
   ],
   "source": [
    "# libraries\n",
    "import pandas as pd\n",
    "import os\n",
    "import seaborn as sns\n",
    "import matplotlib.pyplot as plt\n",
    "import plotly.graph_objects as go\n",
    "import numpy as np\n",
    "import math\n",
    "\n",
    "\n",
    "sns.set_theme(style=\"darkgrid\")\n",
    "\n",
    "data_path = os.getcwd()\n",
    "print(data_path)\n",
    "\n",
    "# Load data from file\n",
    "aw = pd.read_csv(\"Datensatz/Alterswohnung/data/stzh.poi_alterswohnung_view.csv\") # load from file\n",
    "bn = pd.read_csv(\"Datensatz/Bevölkerung nach Nationalität und Stadtquartier/BEV336OD3361.csv\") # load from file\n",
    "ba = pd.read_csv(\"Datensatz/Bevölkerung nach Stadtquartier, Herkunft, Geschlecht und Alter/BEV390OD3903.csv\") # load from file\n",
    "bo = pd.read_csv(\"Datensatz/Bodennutzung/BAU612OD6120.csv\") # load from file"
   ]
  },
  {
   "cell_type": "code",
   "execution_count": 4,
   "id": "68ca22e6",
   "metadata": {},
   "outputs": [
    {
     "data": {
      "text/html": [
       "<div>\n",
       "<style scoped>\n",
       "    .dataframe tbody tr th:only-of-type {\n",
       "        vertical-align: middle;\n",
       "    }\n",
       "\n",
       "    .dataframe tbody tr th {\n",
       "        vertical-align: top;\n",
       "    }\n",
       "\n",
       "    .dataframe thead th {\n",
       "        text-align: right;\n",
       "    }\n",
       "</style>\n",
       "<table border=\"1\" class=\"dataframe\">\n",
       "  <thead>\n",
       "    <tr style=\"text-align: right;\">\n",
       "      <th></th>\n",
       "      <th>adr_inter</th>\n",
       "      <th>adresse</th>\n",
       "      <th>adrzus_int</th>\n",
       "      <th>behindertenparkplatz</th>\n",
       "      <th>bemerkung</th>\n",
       "      <th>ccmail</th>\n",
       "      <th>da</th>\n",
       "      <th>datum</th>\n",
       "      <th>datum_cms</th>\n",
       "      <th>dep</th>\n",
       "      <th>...</th>\n",
       "      <th>suchen</th>\n",
       "      <th>tel</th>\n",
       "      <th>tel2</th>\n",
       "      <th>www</th>\n",
       "      <th>zahlungsmittel_internet</th>\n",
       "      <th>zahlungsmittel_schalter</th>\n",
       "      <th>zahlungsmittel_telefon</th>\n",
       "      <th>zvv_label</th>\n",
       "      <th>zvv_link</th>\n",
       "      <th>geometry</th>\n",
       "    </tr>\n",
       "  </thead>\n",
       "  <tbody>\n",
       "    <tr>\n",
       "      <th>0</th>\n",
       "      <td>Werkgasse 6</td>\n",
       "      <td>Seefeldstrasse 50</td>\n",
       "      <td>Seefeldstrasse 50 + 52</td>\n",
       "      <td>NaN</td>\n",
       "      <td>NaN</td>\n",
       "      <td>NaN</td>\n",
       "      <td>Stiftung Alterswohnungen der Stadt Zürich</td>\n",
       "      <td>202003161721</td>\n",
       "      <td>NaN</td>\n",
       "      <td>Gesundheits- und Umweltdepartement (GUD)</td>\n",
       "      <td>...</td>\n",
       "      <td>Alterswohnungen</td>\n",
       "      <td>NaN</td>\n",
       "      <td>NaN</td>\n",
       "      <td>http://www.wohnenab60.ch/</td>\n",
       "      <td>NULL;NULL;NULL</td>\n",
       "      <td>NULL;NULL;NULL</td>\n",
       "      <td>NULL;NULL;NULL</td>\n",
       "      <td>Seefeldstrasse 50</td>\n",
       "      <td>https://online.fahrplan.zvv.ch/bin/query.exe/d...</td>\n",
       "      <td>POINT (2683960 1246350.9)</td>\n",
       "    </tr>\n",
       "    <tr>\n",
       "      <th>1</th>\n",
       "      <td>Glattalstrasse 1 + 3 + 7</td>\n",
       "      <td>NaN</td>\n",
       "      <td>NaN</td>\n",
       "      <td>NaN</td>\n",
       "      <td>NaN</td>\n",
       "      <td>NaN</td>\n",
       "      <td>Stiftung Alterswohnungen der Stadt Zürich</td>\n",
       "      <td>202003161721</td>\n",
       "      <td>NaN</td>\n",
       "      <td>Gesundheits- und Umweltdepartement (GUD)</td>\n",
       "      <td>...</td>\n",
       "      <td>Alterswohnungen</td>\n",
       "      <td>NaN</td>\n",
       "      <td>NaN</td>\n",
       "      <td>http://www.wohnenab60.ch/</td>\n",
       "      <td>NULL;NULL;NULL</td>\n",
       "      <td>NULL;NULL;NULL</td>\n",
       "      <td>NULL;NULL;NULL</td>\n",
       "      <td>Zürich, Seebach</td>\n",
       "      <td>https://online.fahrplan.zvv.ch/bin/query.exe/d...</td>\n",
       "      <td>POINT (2683862 1253003.9)</td>\n",
       "    </tr>\n",
       "    <tr>\n",
       "      <th>2</th>\n",
       "      <td>NaN</td>\n",
       "      <td>Traktorenstrasse</td>\n",
       "      <td>NaN</td>\n",
       "      <td>NaN</td>\n",
       "      <td>NaN</td>\n",
       "      <td>NaN</td>\n",
       "      <td>Stiftung Alterswohnungen der Stadt Zürich</td>\n",
       "      <td>202003161721</td>\n",
       "      <td>NaN</td>\n",
       "      <td>Gesundheits- und Umweltdepartement (GUD)</td>\n",
       "      <td>...</td>\n",
       "      <td>Alterswohnungen</td>\n",
       "      <td>NaN</td>\n",
       "      <td>NaN</td>\n",
       "      <td>http://www.wohnenab60.ch/koeschenrueti_saw</td>\n",
       "      <td>NULL;NULL;NULL</td>\n",
       "      <td>NULL;NULL;NULL</td>\n",
       "      <td>NULL;NULL;NULL</td>\n",
       "      <td>NaN</td>\n",
       "      <td>NaN</td>\n",
       "      <td>POINT (2682913 1253723.9)</td>\n",
       "    </tr>\n",
       "    <tr>\n",
       "      <th>3</th>\n",
       "      <td>NaN</td>\n",
       "      <td>Oberdorfstrasse 36</td>\n",
       "      <td>NaN</td>\n",
       "      <td>NaN</td>\n",
       "      <td>NaN</td>\n",
       "      <td>NaN</td>\n",
       "      <td>Stiftung Alterswohnungen der Stadt Zürich</td>\n",
       "      <td>202003161721</td>\n",
       "      <td>NaN</td>\n",
       "      <td>Gesundheits- und Umweltdepartement (GUD)</td>\n",
       "      <td>...</td>\n",
       "      <td>Alterswohnungen</td>\n",
       "      <td>NaN</td>\n",
       "      <td>NaN</td>\n",
       "      <td>http://www.wohnenab60.ch/</td>\n",
       "      <td>NaN</td>\n",
       "      <td>NaN</td>\n",
       "      <td>NaN</td>\n",
       "      <td>Oberdorfstrasse  36</td>\n",
       "      <td>https://online.fahrplan.zvv.ch/bin/query.exe/d...</td>\n",
       "      <td>POINT (2683528 1247120.9)</td>\n",
       "    </tr>\n",
       "    <tr>\n",
       "      <th>4</th>\n",
       "      <td>NaN</td>\n",
       "      <td>Hegianwandweg 22 + 24</td>\n",
       "      <td>NaN</td>\n",
       "      <td>NaN</td>\n",
       "      <td>NaN</td>\n",
       "      <td>NaN</td>\n",
       "      <td>Stiftung Alterswohnungen der Stadt Zürich</td>\n",
       "      <td>202003161721</td>\n",
       "      <td>NaN</td>\n",
       "      <td>Gesundheits- und Umweltdepartement (GUD)</td>\n",
       "      <td>...</td>\n",
       "      <td>Alterswohnungen</td>\n",
       "      <td>NaN</td>\n",
       "      <td>NaN</td>\n",
       "      <td>http://www.wohnenab60.ch/</td>\n",
       "      <td>NaN</td>\n",
       "      <td>NaN</td>\n",
       "      <td>NaN</td>\n",
       "      <td>Hegianwandweg  22 + 24</td>\n",
       "      <td>https://online.fahrplan.zvv.ch/bin/query.exe/d...</td>\n",
       "      <td>POINT (2681156 1245839.9)</td>\n",
       "    </tr>\n",
       "  </tbody>\n",
       "</table>\n",
       "<p>5 rows × 53 columns</p>\n",
       "</div>"
      ],
      "text/plain": [
       "                  adr_inter                adresse              adrzus_int  \\\n",
       "0               Werkgasse 6      Seefeldstrasse 50  Seefeldstrasse 50 + 52   \n",
       "1  Glattalstrasse 1 + 3 + 7                    NaN                     NaN   \n",
       "2                       NaN       Traktorenstrasse                     NaN   \n",
       "3                       NaN     Oberdorfstrasse 36                     NaN   \n",
       "4                       NaN  Hegianwandweg 22 + 24                     NaN   \n",
       "\n",
       "   behindertenparkplatz  bemerkung  ccmail  \\\n",
       "0                   NaN        NaN     NaN   \n",
       "1                   NaN        NaN     NaN   \n",
       "2                   NaN        NaN     NaN   \n",
       "3                   NaN        NaN     NaN   \n",
       "4                   NaN        NaN     NaN   \n",
       "\n",
       "                                          da         datum  datum_cms  \\\n",
       "0  Stiftung Alterswohnungen der Stadt Zürich  202003161721        NaN   \n",
       "1  Stiftung Alterswohnungen der Stadt Zürich  202003161721        NaN   \n",
       "2  Stiftung Alterswohnungen der Stadt Zürich  202003161721        NaN   \n",
       "3  Stiftung Alterswohnungen der Stadt Zürich  202003161721        NaN   \n",
       "4  Stiftung Alterswohnungen der Stadt Zürich  202003161721        NaN   \n",
       "\n",
       "                                        dep  ...           suchen  tel  tel2  \\\n",
       "0  Gesundheits- und Umweltdepartement (GUD)  ...  Alterswohnungen  NaN   NaN   \n",
       "1  Gesundheits- und Umweltdepartement (GUD)  ...  Alterswohnungen  NaN   NaN   \n",
       "2  Gesundheits- und Umweltdepartement (GUD)  ...  Alterswohnungen  NaN   NaN   \n",
       "3  Gesundheits- und Umweltdepartement (GUD)  ...  Alterswohnungen  NaN   NaN   \n",
       "4  Gesundheits- und Umweltdepartement (GUD)  ...  Alterswohnungen  NaN   NaN   \n",
       "\n",
       "                                          www zahlungsmittel_internet  \\\n",
       "0                   http://www.wohnenab60.ch/          NULL;NULL;NULL   \n",
       "1                   http://www.wohnenab60.ch/          NULL;NULL;NULL   \n",
       "2  http://www.wohnenab60.ch/koeschenrueti_saw          NULL;NULL;NULL   \n",
       "3                   http://www.wohnenab60.ch/                     NaN   \n",
       "4                   http://www.wohnenab60.ch/                     NaN   \n",
       "\n",
       "  zahlungsmittel_schalter  zahlungsmittel_telefon               zvv_label  \\\n",
       "0          NULL;NULL;NULL          NULL;NULL;NULL       Seefeldstrasse 50   \n",
       "1          NULL;NULL;NULL          NULL;NULL;NULL         Zürich, Seebach   \n",
       "2          NULL;NULL;NULL          NULL;NULL;NULL                     NaN   \n",
       "3                     NaN                     NaN     Oberdorfstrasse  36   \n",
       "4                     NaN                     NaN  Hegianwandweg  22 + 24   \n",
       "\n",
       "                                            zvv_link  \\\n",
       "0  https://online.fahrplan.zvv.ch/bin/query.exe/d...   \n",
       "1  https://online.fahrplan.zvv.ch/bin/query.exe/d...   \n",
       "2                                                NaN   \n",
       "3  https://online.fahrplan.zvv.ch/bin/query.exe/d...   \n",
       "4  https://online.fahrplan.zvv.ch/bin/query.exe/d...   \n",
       "\n",
       "                    geometry  \n",
       "0  POINT (2683960 1246350.9)  \n",
       "1  POINT (2683862 1253003.9)  \n",
       "2  POINT (2682913 1253723.9)  \n",
       "3  POINT (2683528 1247120.9)  \n",
       "4  POINT (2681156 1245839.9)  \n",
       "\n",
       "[5 rows x 53 columns]"
      ]
     },
     "execution_count": 4,
     "metadata": {},
     "output_type": "execute_result"
    }
   ],
   "source": [
    "aw.head()"
   ]
  },
  {
   "cell_type": "code",
   "execution_count": 8,
   "id": "0cd3f7ee-34b2-4a0c-8e4f-f1b1947a8b65",
   "metadata": {},
   "outputs": [
    {
     "data": {
      "text/html": [
       "<div>\n",
       "<style scoped>\n",
       "    .dataframe tbody tr th:only-of-type {\n",
       "        vertical-align: middle;\n",
       "    }\n",
       "\n",
       "    .dataframe tbody tr th {\n",
       "        vertical-align: top;\n",
       "    }\n",
       "\n",
       "    .dataframe thead th {\n",
       "        text-align: right;\n",
       "    }\n",
       "</style>\n",
       "<table border=\"1\" class=\"dataframe\">\n",
       "  <thead>\n",
       "    <tr style=\"text-align: right;\">\n",
       "      <th></th>\n",
       "      <th>StichtagDatJahr</th>\n",
       "      <th>QuarSort</th>\n",
       "      <th>QuarCd</th>\n",
       "      <th>QuarLang</th>\n",
       "      <th>NationHistSort</th>\n",
       "      <th>NationHistLang</th>\n",
       "      <th>NationSort</th>\n",
       "      <th>NationLang</th>\n",
       "      <th>RegionSort</th>\n",
       "      <th>RegionLang</th>\n",
       "      <th>KontinentSort</th>\n",
       "      <th>KontinentLang</th>\n",
       "      <th>AnzBestWir</th>\n",
       "    </tr>\n",
       "  </thead>\n",
       "  <tbody>\n",
       "    <tr>\n",
       "      <th>0</th>\n",
       "      <td>1993</td>\n",
       "      <td>11</td>\n",
       "      <td>11</td>\n",
       "      <td>Rathaus</td>\n",
       "      <td>8100</td>\n",
       "      <td>Schweiz</td>\n",
       "      <td>8100</td>\n",
       "      <td>Schweiz</td>\n",
       "      <td>13</td>\n",
       "      <td>Zentraleuropa</td>\n",
       "      <td>1</td>\n",
       "      <td>Europa</td>\n",
       "      <td>2487</td>\n",
       "    </tr>\n",
       "    <tr>\n",
       "      <th>1</th>\n",
       "      <td>1993</td>\n",
       "      <td>11</td>\n",
       "      <td>11</td>\n",
       "      <td>Rathaus</td>\n",
       "      <td>8205</td>\n",
       "      <td>Bulgarien</td>\n",
       "      <td>8205</td>\n",
       "      <td>Bulgarien</td>\n",
       "      <td>17</td>\n",
       "      <td>Südosteuropa</td>\n",
       "      <td>1</td>\n",
       "      <td>Europa</td>\n",
       "      <td>1</td>\n",
       "    </tr>\n",
       "    <tr>\n",
       "      <th>2</th>\n",
       "      <td>1993</td>\n",
       "      <td>11</td>\n",
       "      <td>11</td>\n",
       "      <td>Rathaus</td>\n",
       "      <td>8206</td>\n",
       "      <td>Dänemark</td>\n",
       "      <td>8206</td>\n",
       "      <td>Dänemark</td>\n",
       "      <td>11</td>\n",
       "      <td>Nordeuropa</td>\n",
       "      <td>1</td>\n",
       "      <td>Europa</td>\n",
       "      <td>2</td>\n",
       "    </tr>\n",
       "    <tr>\n",
       "      <th>3</th>\n",
       "      <td>1993</td>\n",
       "      <td>11</td>\n",
       "      <td>11</td>\n",
       "      <td>Rathaus</td>\n",
       "      <td>8207</td>\n",
       "      <td>Deutschland</td>\n",
       "      <td>8207</td>\n",
       "      <td>Deutschland</td>\n",
       "      <td>13</td>\n",
       "      <td>Zentraleuropa</td>\n",
       "      <td>1</td>\n",
       "      <td>Europa</td>\n",
       "      <td>96</td>\n",
       "    </tr>\n",
       "    <tr>\n",
       "      <th>4</th>\n",
       "      <td>1993</td>\n",
       "      <td>11</td>\n",
       "      <td>11</td>\n",
       "      <td>Rathaus</td>\n",
       "      <td>8211</td>\n",
       "      <td>Finnland</td>\n",
       "      <td>8211</td>\n",
       "      <td>Finnland</td>\n",
       "      <td>11</td>\n",
       "      <td>Nordeuropa</td>\n",
       "      <td>1</td>\n",
       "      <td>Europa</td>\n",
       "      <td>2</td>\n",
       "    </tr>\n",
       "  </tbody>\n",
       "</table>\n",
       "</div>"
      ],
      "text/plain": [
       "   StichtagDatJahr  QuarSort  QuarCd QuarLang  NationHistSort NationHistLang  \\\n",
       "0             1993        11      11  Rathaus            8100        Schweiz   \n",
       "1             1993        11      11  Rathaus            8205      Bulgarien   \n",
       "2             1993        11      11  Rathaus            8206       Dänemark   \n",
       "3             1993        11      11  Rathaus            8207    Deutschland   \n",
       "4             1993        11      11  Rathaus            8211       Finnland   \n",
       "\n",
       "   NationSort   NationLang  RegionSort     RegionLang  KontinentSort  \\\n",
       "0        8100      Schweiz          13  Zentraleuropa              1   \n",
       "1        8205    Bulgarien          17   Südosteuropa              1   \n",
       "2        8206     Dänemark          11     Nordeuropa              1   \n",
       "3        8207  Deutschland          13  Zentraleuropa              1   \n",
       "4        8211     Finnland          11     Nordeuropa              1   \n",
       "\n",
       "  KontinentLang  AnzBestWir  \n",
       "0        Europa        2487  \n",
       "1        Europa           1  \n",
       "2        Europa           2  \n",
       "3        Europa          96  \n",
       "4        Europa           2  "
      ]
     },
     "execution_count": 8,
     "metadata": {},
     "output_type": "execute_result"
    }
   ],
   "source": [
    "bn.head()"
   ]
  },
  {
   "cell_type": "code",
   "execution_count": 9,
   "id": "a0d45b0b-5ed1-4679-a61f-21a5a0f76be8",
   "metadata": {},
   "outputs": [
    {
     "data": {
      "text/html": [
       "<div>\n",
       "<style scoped>\n",
       "    .dataframe tbody tr th:only-of-type {\n",
       "        vertical-align: middle;\n",
       "    }\n",
       "\n",
       "    .dataframe tbody tr th {\n",
       "        vertical-align: top;\n",
       "    }\n",
       "\n",
       "    .dataframe thead th {\n",
       "        text-align: right;\n",
       "    }\n",
       "</style>\n",
       "<table border=\"1\" class=\"dataframe\">\n",
       "  <thead>\n",
       "    <tr style=\"text-align: right;\">\n",
       "      <th></th>\n",
       "      <th>StichtagDatJahr</th>\n",
       "      <th>QuarSort</th>\n",
       "      <th>QuarCd</th>\n",
       "      <th>QuarLang</th>\n",
       "      <th>AlterVSort</th>\n",
       "      <th>AlterVCd</th>\n",
       "      <th>AlterVKurz</th>\n",
       "      <th>AlterV05Sort</th>\n",
       "      <th>AlterV05Kurz</th>\n",
       "      <th>HerkunftLang</th>\n",
       "      <th>HerkunftCd</th>\n",
       "      <th>HerkunftSort</th>\n",
       "      <th>SexCd</th>\n",
       "      <th>SexKurz</th>\n",
       "      <th>AnzBestWir</th>\n",
       "    </tr>\n",
       "  </thead>\n",
       "  <tbody>\n",
       "    <tr>\n",
       "      <th>0</th>\n",
       "      <td>1993</td>\n",
       "      <td>11</td>\n",
       "      <td>11</td>\n",
       "      <td>Rathaus</td>\n",
       "      <td>0</td>\n",
       "      <td>0</td>\n",
       "      <td>0</td>\n",
       "      <td>1</td>\n",
       "      <td>0-4</td>\n",
       "      <td>Schweizer/in</td>\n",
       "      <td>1</td>\n",
       "      <td>1</td>\n",
       "      <td>1</td>\n",
       "      <td>M</td>\n",
       "      <td>11</td>\n",
       "    </tr>\n",
       "    <tr>\n",
       "      <th>1</th>\n",
       "      <td>1993</td>\n",
       "      <td>11</td>\n",
       "      <td>11</td>\n",
       "      <td>Rathaus</td>\n",
       "      <td>0</td>\n",
       "      <td>0</td>\n",
       "      <td>0</td>\n",
       "      <td>1</td>\n",
       "      <td>0-4</td>\n",
       "      <td>Schweizer/in</td>\n",
       "      <td>1</td>\n",
       "      <td>1</td>\n",
       "      <td>2</td>\n",
       "      <td>W</td>\n",
       "      <td>8</td>\n",
       "    </tr>\n",
       "    <tr>\n",
       "      <th>2</th>\n",
       "      <td>1993</td>\n",
       "      <td>11</td>\n",
       "      <td>11</td>\n",
       "      <td>Rathaus</td>\n",
       "      <td>0</td>\n",
       "      <td>0</td>\n",
       "      <td>0</td>\n",
       "      <td>1</td>\n",
       "      <td>0-4</td>\n",
       "      <td>Ausländer/in</td>\n",
       "      <td>2</td>\n",
       "      <td>2</td>\n",
       "      <td>1</td>\n",
       "      <td>M</td>\n",
       "      <td>1</td>\n",
       "    </tr>\n",
       "    <tr>\n",
       "      <th>3</th>\n",
       "      <td>1993</td>\n",
       "      <td>11</td>\n",
       "      <td>11</td>\n",
       "      <td>Rathaus</td>\n",
       "      <td>0</td>\n",
       "      <td>0</td>\n",
       "      <td>0</td>\n",
       "      <td>1</td>\n",
       "      <td>0-4</td>\n",
       "      <td>Ausländer/in</td>\n",
       "      <td>2</td>\n",
       "      <td>2</td>\n",
       "      <td>2</td>\n",
       "      <td>W</td>\n",
       "      <td>6</td>\n",
       "    </tr>\n",
       "    <tr>\n",
       "      <th>4</th>\n",
       "      <td>1993</td>\n",
       "      <td>11</td>\n",
       "      <td>11</td>\n",
       "      <td>Rathaus</td>\n",
       "      <td>1</td>\n",
       "      <td>1</td>\n",
       "      <td>1</td>\n",
       "      <td>1</td>\n",
       "      <td>0-4</td>\n",
       "      <td>Schweizer/in</td>\n",
       "      <td>1</td>\n",
       "      <td>1</td>\n",
       "      <td>1</td>\n",
       "      <td>M</td>\n",
       "      <td>11</td>\n",
       "    </tr>\n",
       "  </tbody>\n",
       "</table>\n",
       "</div>"
      ],
      "text/plain": [
       "   StichtagDatJahr  QuarSort  QuarCd QuarLang  AlterVSort  AlterVCd  \\\n",
       "0             1993        11      11  Rathaus           0         0   \n",
       "1             1993        11      11  Rathaus           0         0   \n",
       "2             1993        11      11  Rathaus           0         0   \n",
       "3             1993        11      11  Rathaus           0         0   \n",
       "4             1993        11      11  Rathaus           1         1   \n",
       "\n",
       "   AlterVKurz  AlterV05Sort AlterV05Kurz  HerkunftLang  HerkunftCd  \\\n",
       "0           0             1          0-4  Schweizer/in           1   \n",
       "1           0             1          0-4  Schweizer/in           1   \n",
       "2           0             1          0-4  Ausländer/in           2   \n",
       "3           0             1          0-4  Ausländer/in           2   \n",
       "4           1             1          0-4  Schweizer/in           1   \n",
       "\n",
       "   HerkunftSort  SexCd SexKurz  AnzBestWir  \n",
       "0             1      1       M          11  \n",
       "1             1      2       W           8  \n",
       "2             2      1       M           1  \n",
       "3             2      2       W           6  \n",
       "4             1      1       M          11  "
      ]
     },
     "execution_count": 9,
     "metadata": {},
     "output_type": "execute_result"
    }
   ],
   "source": [
    "ba.head()"
   ]
  },
  {
   "cell_type": "code",
   "execution_count": 10,
   "id": "dcc778f4-1ae6-46e9-ac39-b65e203104e1",
   "metadata": {},
   "outputs": [
    {
     "data": {
      "text/html": [
       "<div>\n",
       "<style scoped>\n",
       "    .dataframe tbody tr th:only-of-type {\n",
       "        vertical-align: middle;\n",
       "    }\n",
       "\n",
       "    .dataframe tbody tr th {\n",
       "        vertical-align: top;\n",
       "    }\n",
       "\n",
       "    .dataframe thead th {\n",
       "        text-align: right;\n",
       "    }\n",
       "</style>\n",
       "<table border=\"1\" class=\"dataframe\">\n",
       "  <thead>\n",
       "    <tr style=\"text-align: right;\">\n",
       "      <th></th>\n",
       "      <th>StichtagDatJahr</th>\n",
       "      <th>QuarSort</th>\n",
       "      <th>QuarLang</th>\n",
       "      <th>BodenbedeckungsartLevel1Sort</th>\n",
       "      <th>BodenbedeckungsartLevel1Lang</th>\n",
       "      <th>BodenbedeckungsartLevel2Sort</th>\n",
       "      <th>BodenbedeckungsartLevel2Lang</th>\n",
       "      <th>BodenbedeckungsartLevel3Sort</th>\n",
       "      <th>BodenbedeckungsartLevel3Lang</th>\n",
       "      <th>BodenbedeckungsartLevel4Sort</th>\n",
       "      <th>BodenbedeckungsartLevel4Lang</th>\n",
       "      <th>EigentuemerLevel1Sort</th>\n",
       "      <th>EigentuemerLevel1Lang</th>\n",
       "      <th>EigentuemerLevel2Sort</th>\n",
       "      <th>EigentuemerLevel2Lang</th>\n",
       "      <th>EigentuemerLevel3Sort</th>\n",
       "      <th>EigentuemerLevel3Lang</th>\n",
       "      <th>EigentuemerLevel4Sort</th>\n",
       "      <th>EigentuemerLevel4Lang</th>\n",
       "      <th>Flaeche</th>\n",
       "    </tr>\n",
       "  </thead>\n",
       "  <tbody>\n",
       "    <tr>\n",
       "      <th>0</th>\n",
       "      <td>2009</td>\n",
       "      <td>11</td>\n",
       "      <td>Rathaus</td>\n",
       "      <td>110101</td>\n",
       "      <td>Gebäude öffentlich</td>\n",
       "      <td>1101</td>\n",
       "      <td>Gebäude</td>\n",
       "      <td>11</td>\n",
       "      <td>Gebäude</td>\n",
       "      <td>1</td>\n",
       "      <td>Landfläche ohne Wald</td>\n",
       "      <td>110101</td>\n",
       "      <td>Einzelperson</td>\n",
       "      <td>1101</td>\n",
       "      <td>Einzelperson</td>\n",
       "      <td>110</td>\n",
       "      <td>Natürliche Personen</td>\n",
       "      <td>1</td>\n",
       "      <td>Privates Eigentum</td>\n",
       "      <td>0.4483</td>\n",
       "    </tr>\n",
       "    <tr>\n",
       "      <th>1</th>\n",
       "      <td>2009</td>\n",
       "      <td>11</td>\n",
       "      <td>Rathaus</td>\n",
       "      <td>110101</td>\n",
       "      <td>Gebäude öffentlich</td>\n",
       "      <td>1101</td>\n",
       "      <td>Gebäude</td>\n",
       "      <td>11</td>\n",
       "      <td>Gebäude</td>\n",
       "      <td>1</td>\n",
       "      <td>Landfläche ohne Wald</td>\n",
       "      <td>110201</td>\n",
       "      <td>Erbengemeinschaft</td>\n",
       "      <td>1102</td>\n",
       "      <td>Erbengemeinschaft</td>\n",
       "      <td>110</td>\n",
       "      <td>Natürliche Personen</td>\n",
       "      <td>1</td>\n",
       "      <td>Privates Eigentum</td>\n",
       "      <td>0.1171</td>\n",
       "    </tr>\n",
       "    <tr>\n",
       "      <th>2</th>\n",
       "      <td>2009</td>\n",
       "      <td>11</td>\n",
       "      <td>Rathaus</td>\n",
       "      <td>110101</td>\n",
       "      <td>Gebäude öffentlich</td>\n",
       "      <td>1101</td>\n",
       "      <td>Gebäude</td>\n",
       "      <td>11</td>\n",
       "      <td>Gebäude</td>\n",
       "      <td>1</td>\n",
       "      <td>Landfläche ohne Wald</td>\n",
       "      <td>110301</td>\n",
       "      <td>Mehrere Natürliche Personen</td>\n",
       "      <td>1103</td>\n",
       "      <td>Mehrere Natürliche Personen</td>\n",
       "      <td>110</td>\n",
       "      <td>Natürliche Personen</td>\n",
       "      <td>1</td>\n",
       "      <td>Privates Eigentum</td>\n",
       "      <td>0.1154</td>\n",
       "    </tr>\n",
       "    <tr>\n",
       "      <th>3</th>\n",
       "      <td>2009</td>\n",
       "      <td>11</td>\n",
       "      <td>Rathaus</td>\n",
       "      <td>110101</td>\n",
       "      <td>Gebäude öffentlich</td>\n",
       "      <td>1101</td>\n",
       "      <td>Gebäude</td>\n",
       "      <td>11</td>\n",
       "      <td>Gebäude</td>\n",
       "      <td>1</td>\n",
       "      <td>Landfläche ohne Wald</td>\n",
       "      <td>120401</td>\n",
       "      <td>Stockwerkeigentum</td>\n",
       "      <td>1204</td>\n",
       "      <td>Stockwerkeigentum</td>\n",
       "      <td>120</td>\n",
       "      <td>Stockwerkeigentum</td>\n",
       "      <td>1</td>\n",
       "      <td>Privates Eigentum</td>\n",
       "      <td>0.1343</td>\n",
       "    </tr>\n",
       "    <tr>\n",
       "      <th>4</th>\n",
       "      <td>2009</td>\n",
       "      <td>11</td>\n",
       "      <td>Rathaus</td>\n",
       "      <td>110101</td>\n",
       "      <td>Gebäude öffentlich</td>\n",
       "      <td>1101</td>\n",
       "      <td>Gebäude</td>\n",
       "      <td>11</td>\n",
       "      <td>Gebäude</td>\n",
       "      <td>1</td>\n",
       "      <td>Landfläche ohne Wald</td>\n",
       "      <td>140101</td>\n",
       "      <td>Handels- und Produktivgenossenschaft</td>\n",
       "      <td>1401</td>\n",
       "      <td>Genossenschaft</td>\n",
       "      <td>140</td>\n",
       "      <td>Genossenschaften</td>\n",
       "      <td>1</td>\n",
       "      <td>Privates Eigentum</td>\n",
       "      <td>0.0185</td>\n",
       "    </tr>\n",
       "  </tbody>\n",
       "</table>\n",
       "</div>"
      ],
      "text/plain": [
       "   StichtagDatJahr  QuarSort QuarLang  BodenbedeckungsartLevel1Sort  \\\n",
       "0             2009        11  Rathaus                        110101   \n",
       "1             2009        11  Rathaus                        110101   \n",
       "2             2009        11  Rathaus                        110101   \n",
       "3             2009        11  Rathaus                        110101   \n",
       "4             2009        11  Rathaus                        110101   \n",
       "\n",
       "  BodenbedeckungsartLevel1Lang  BodenbedeckungsartLevel2Sort  \\\n",
       "0           Gebäude öffentlich                          1101   \n",
       "1           Gebäude öffentlich                          1101   \n",
       "2           Gebäude öffentlich                          1101   \n",
       "3           Gebäude öffentlich                          1101   \n",
       "4           Gebäude öffentlich                          1101   \n",
       "\n",
       "  BodenbedeckungsartLevel2Lang  BodenbedeckungsartLevel3Sort  \\\n",
       "0                      Gebäude                            11   \n",
       "1                      Gebäude                            11   \n",
       "2                      Gebäude                            11   \n",
       "3                      Gebäude                            11   \n",
       "4                      Gebäude                            11   \n",
       "\n",
       "  BodenbedeckungsartLevel3Lang  BodenbedeckungsartLevel4Sort  \\\n",
       "0                      Gebäude                             1   \n",
       "1                      Gebäude                             1   \n",
       "2                      Gebäude                             1   \n",
       "3                      Gebäude                             1   \n",
       "4                      Gebäude                             1   \n",
       "\n",
       "  BodenbedeckungsartLevel4Lang  EigentuemerLevel1Sort  \\\n",
       "0         Landfläche ohne Wald                 110101   \n",
       "1         Landfläche ohne Wald                 110201   \n",
       "2         Landfläche ohne Wald                 110301   \n",
       "3         Landfläche ohne Wald                 120401   \n",
       "4         Landfläche ohne Wald                 140101   \n",
       "\n",
       "                  EigentuemerLevel1Lang  EigentuemerLevel2Sort  \\\n",
       "0                          Einzelperson                   1101   \n",
       "1                     Erbengemeinschaft                   1102   \n",
       "2           Mehrere Natürliche Personen                   1103   \n",
       "3                     Stockwerkeigentum                   1204   \n",
       "4  Handels- und Produktivgenossenschaft                   1401   \n",
       "\n",
       "         EigentuemerLevel2Lang  EigentuemerLevel3Sort EigentuemerLevel3Lang  \\\n",
       "0                 Einzelperson                    110   Natürliche Personen   \n",
       "1            Erbengemeinschaft                    110   Natürliche Personen   \n",
       "2  Mehrere Natürliche Personen                    110   Natürliche Personen   \n",
       "3            Stockwerkeigentum                    120     Stockwerkeigentum   \n",
       "4               Genossenschaft                    140      Genossenschaften   \n",
       "\n",
       "   EigentuemerLevel4Sort EigentuemerLevel4Lang  Flaeche  \n",
       "0                      1     Privates Eigentum   0.4483  \n",
       "1                      1     Privates Eigentum   0.1171  \n",
       "2                      1     Privates Eigentum   0.1154  \n",
       "3                      1     Privates Eigentum   0.1343  \n",
       "4                      1     Privates Eigentum   0.0185  "
      ]
     },
     "execution_count": 10,
     "metadata": {},
     "output_type": "execute_result"
    }
   ],
   "source": [
    "bo.head()"
   ]
  },
  {
   "cell_type": "code",
   "execution_count": 40,
   "id": "875bdd05-87e8-447e-92e6-fb6015ea67e6",
   "metadata": {},
   "outputs": [
    {
     "data": {
      "text/html": [
       "<div>\n",
       "<style scoped>\n",
       "    .dataframe tbody tr th:only-of-type {\n",
       "        vertical-align: middle;\n",
       "    }\n",
       "\n",
       "    .dataframe tbody tr th {\n",
       "        vertical-align: top;\n",
       "    }\n",
       "\n",
       "    .dataframe thead th {\n",
       "        text-align: right;\n",
       "    }\n",
       "</style>\n",
       "<table border=\"1\" class=\"dataframe\">\n",
       "  <thead>\n",
       "    <tr style=\"text-align: right;\">\n",
       "      <th></th>\n",
       "      <th>QuarCd</th>\n",
       "    </tr>\n",
       "    <tr>\n",
       "      <th>NationLang</th>\n",
       "      <th></th>\n",
       "    </tr>\n",
       "  </thead>\n",
       "  <tbody>\n",
       "    <tr>\n",
       "      <th>Afghanistan</th>\n",
       "      <td>30</td>\n",
       "    </tr>\n",
       "    <tr>\n",
       "      <th>Albanien</th>\n",
       "      <td>27</td>\n",
       "    </tr>\n",
       "    <tr>\n",
       "      <th>Algerien</th>\n",
       "      <td>28</td>\n",
       "    </tr>\n",
       "    <tr>\n",
       "      <th>Angola</th>\n",
       "      <td>24</td>\n",
       "    </tr>\n",
       "    <tr>\n",
       "      <th>Argentinien</th>\n",
       "      <td>30</td>\n",
       "    </tr>\n",
       "    <tr>\n",
       "      <th>...</th>\n",
       "      <td>...</td>\n",
       "    </tr>\n",
       "    <tr>\n",
       "      <th>Zentralafrikanische Republik</th>\n",
       "      <td>6</td>\n",
       "    </tr>\n",
       "    <tr>\n",
       "      <th>Zypern</th>\n",
       "      <td>30</td>\n",
       "    </tr>\n",
       "    <tr>\n",
       "      <th>Ägypten</th>\n",
       "      <td>32</td>\n",
       "    </tr>\n",
       "    <tr>\n",
       "      <th>Äthiopien</th>\n",
       "      <td>31</td>\n",
       "    </tr>\n",
       "    <tr>\n",
       "      <th>Österreich</th>\n",
       "      <td>34</td>\n",
       "    </tr>\n",
       "  </tbody>\n",
       "</table>\n",
       "<p>171 rows × 1 columns</p>\n",
       "</div>"
      ],
      "text/plain": [
       "                              QuarCd\n",
       "NationLang                          \n",
       "Afghanistan                       30\n",
       "Albanien                          27\n",
       "Algerien                          28\n",
       "Angola                            24\n",
       "Argentinien                       30\n",
       "...                              ...\n",
       "Zentralafrikanische Republik       6\n",
       "Zypern                            30\n",
       "Ägypten                           32\n",
       "Äthiopien                         31\n",
       "Österreich                        34\n",
       "\n",
       "[171 rows x 1 columns]"
      ]
     },
     "execution_count": 40,
     "metadata": {},
     "output_type": "execute_result"
    }
   ],
   "source": [
    "bn_2020 = bn[(bn.StichtagDatJahr == 2020)]\n",
    "bn_2020.head()\n",
    "\n",
    "bn_2020[[\"QuarCd\", \"NationLang\"]].groupby(\"NationLang\").count()"
   ]
  },
  {
   "cell_type": "code",
   "execution_count": 58,
   "id": "2a4169be-33a3-4af1-b245-b5aabb8fb7dd",
   "metadata": {},
   "outputs": [
    {
     "data": {
      "text/html": [
       "<div>\n",
       "<style scoped>\n",
       "    .dataframe tbody tr th:only-of-type {\n",
       "        vertical-align: middle;\n",
       "    }\n",
       "\n",
       "    .dataframe tbody tr th {\n",
       "        vertical-align: top;\n",
       "    }\n",
       "\n",
       "    .dataframe thead th {\n",
       "        text-align: right;\n",
       "    }\n",
       "</style>\n",
       "<table border=\"1\" class=\"dataframe\">\n",
       "  <thead>\n",
       "    <tr style=\"text-align: right;\">\n",
       "      <th></th>\n",
       "      <th>StichtagDatJahr</th>\n",
       "      <th>QuarSort</th>\n",
       "      <th>QuarCd</th>\n",
       "      <th>QuarLang</th>\n",
       "      <th>AlterVSort</th>\n",
       "      <th>AlterVCd</th>\n",
       "      <th>AlterVKurz</th>\n",
       "      <th>AlterV05Sort</th>\n",
       "      <th>AlterV05Kurz</th>\n",
       "      <th>HerkunftLang</th>\n",
       "      <th>HerkunftCd</th>\n",
       "      <th>HerkunftSort</th>\n",
       "      <th>SexCd</th>\n",
       "      <th>SexKurz</th>\n",
       "      <th>AnzBestWir</th>\n",
       "      <th>Kreis</th>\n",
       "    </tr>\n",
       "  </thead>\n",
       "  <tbody>\n",
       "    <tr>\n",
       "      <th>332766</th>\n",
       "      <td>2020</td>\n",
       "      <td>11</td>\n",
       "      <td>11</td>\n",
       "      <td>Rathaus</td>\n",
       "      <td>0</td>\n",
       "      <td>0</td>\n",
       "      <td>0</td>\n",
       "      <td>1</td>\n",
       "      <td>0-4</td>\n",
       "      <td>Schweizer/in</td>\n",
       "      <td>1</td>\n",
       "      <td>1</td>\n",
       "      <td>1</td>\n",
       "      <td>M</td>\n",
       "      <td>3</td>\n",
       "      <td>1</td>\n",
       "    </tr>\n",
       "    <tr>\n",
       "      <th>332767</th>\n",
       "      <td>2020</td>\n",
       "      <td>11</td>\n",
       "      <td>11</td>\n",
       "      <td>Rathaus</td>\n",
       "      <td>0</td>\n",
       "      <td>0</td>\n",
       "      <td>0</td>\n",
       "      <td>1</td>\n",
       "      <td>0-4</td>\n",
       "      <td>Schweizer/in</td>\n",
       "      <td>1</td>\n",
       "      <td>1</td>\n",
       "      <td>2</td>\n",
       "      <td>W</td>\n",
       "      <td>6</td>\n",
       "      <td>1</td>\n",
       "    </tr>\n",
       "    <tr>\n",
       "      <th>332768</th>\n",
       "      <td>2020</td>\n",
       "      <td>11</td>\n",
       "      <td>11</td>\n",
       "      <td>Rathaus</td>\n",
       "      <td>0</td>\n",
       "      <td>0</td>\n",
       "      <td>0</td>\n",
       "      <td>1</td>\n",
       "      <td>0-4</td>\n",
       "      <td>Ausländer/in</td>\n",
       "      <td>2</td>\n",
       "      <td>2</td>\n",
       "      <td>1</td>\n",
       "      <td>M</td>\n",
       "      <td>3</td>\n",
       "      <td>1</td>\n",
       "    </tr>\n",
       "    <tr>\n",
       "      <th>332769</th>\n",
       "      <td>2020</td>\n",
       "      <td>11</td>\n",
       "      <td>11</td>\n",
       "      <td>Rathaus</td>\n",
       "      <td>0</td>\n",
       "      <td>0</td>\n",
       "      <td>0</td>\n",
       "      <td>1</td>\n",
       "      <td>0-4</td>\n",
       "      <td>Ausländer/in</td>\n",
       "      <td>2</td>\n",
       "      <td>2</td>\n",
       "      <td>2</td>\n",
       "      <td>W</td>\n",
       "      <td>1</td>\n",
       "      <td>1</td>\n",
       "    </tr>\n",
       "    <tr>\n",
       "      <th>332770</th>\n",
       "      <td>2020</td>\n",
       "      <td>11</td>\n",
       "      <td>11</td>\n",
       "      <td>Rathaus</td>\n",
       "      <td>1</td>\n",
       "      <td>1</td>\n",
       "      <td>1</td>\n",
       "      <td>1</td>\n",
       "      <td>0-4</td>\n",
       "      <td>Schweizer/in</td>\n",
       "      <td>1</td>\n",
       "      <td>1</td>\n",
       "      <td>1</td>\n",
       "      <td>M</td>\n",
       "      <td>10</td>\n",
       "      <td>1</td>\n",
       "    </tr>\n",
       "  </tbody>\n",
       "</table>\n",
       "</div>"
      ],
      "text/plain": [
       "        StichtagDatJahr  QuarSort  QuarCd QuarLang  AlterVSort  AlterVCd  \\\n",
       "332766             2020        11      11  Rathaus           0         0   \n",
       "332767             2020        11      11  Rathaus           0         0   \n",
       "332768             2020        11      11  Rathaus           0         0   \n",
       "332769             2020        11      11  Rathaus           0         0   \n",
       "332770             2020        11      11  Rathaus           1         1   \n",
       "\n",
       "        AlterVKurz  AlterV05Sort AlterV05Kurz  HerkunftLang  HerkunftCd  \\\n",
       "332766           0             1          0-4  Schweizer/in           1   \n",
       "332767           0             1          0-4  Schweizer/in           1   \n",
       "332768           0             1          0-4  Ausländer/in           2   \n",
       "332769           0             1          0-4  Ausländer/in           2   \n",
       "332770           1             1          0-4  Schweizer/in           1   \n",
       "\n",
       "        HerkunftSort  SexCd SexKurz  AnzBestWir  Kreis  \n",
       "332766             1      1       M           3      1  \n",
       "332767             1      2       W           6      1  \n",
       "332768             2      1       M           3      1  \n",
       "332769             2      2       W           1      1  \n",
       "332770             1      1       M          10      1  "
      ]
     },
     "execution_count": 58,
     "metadata": {},
     "output_type": "execute_result"
    }
   ],
   "source": [
    "# Add Kreis information\n",
    "ba.QuarSort\n",
    "Kreis = np.zeros(len(ba))\n",
    "# Kreis.size\n",
    "for i in range(len(ba)):\n",
    "        Kreis[i] =math.floor(ba.QuarSort[i]/10)\n",
    "\n",
    "ba['Kreis'] = Kreis.tolist()\n",
    "ba = ba.astype({\"Kreis\": int})\n",
    "ba.head()\n",
    "\n",
    "ba_2020 = ba[(ba.StichtagDatJahr == 2020)]\n",
    "ba_2020.head()\n",
    "\n",
    "#ba_2020.groupby('QuarCd')['AlterVKurz'].describe()\n",
    "#ba_2020[[\"QuarCd\", \"AlterVKurz\"]].groupby(\"QuarCd\").describe()\n",
    "\n",
    "\n",
    "#age = ba_2020['AlterVKurz'].value_counts()\n",
    "#print(age)"
   ]
  },
  {
   "cell_type": "code",
   "execution_count": null,
   "id": "f62cf16e-92be-4657-aefc-c186125495be",
   "metadata": {},
   "outputs": [],
   "source": [
    "# multiplot\n",
    "\n",
    "sns.displot(\n",
    "    ba_2020, x=\"AlterVKurz\", col=\"QuarCd\", row=\"SexCd\",\n",
    "    binwidth=3, height=3, facet_kws=dict(margin_titles=True),\n",
    ")\n",
    "\n",
    "plt.show()"
   ]
  },
  {
   "cell_type": "code",
   "execution_count": 61,
   "id": "569ac8c0-2fdb-46b2-986a-89d2d9bb048a",
   "metadata": {},
   "outputs": [
    {
     "data": {
      "application/vnd.plotly.v1+json": {
       "config": {
        "plotlyServerURL": "https://plot.ly"
       },
       "data": [
        {
         "colorscale": [
          [
           0,
           "#440154"
          ],
          [
           0.1111111111111111,
           "#482878"
          ],
          [
           0.2222222222222222,
           "#3e4989"
          ],
          [
           0.3333333333333333,
           "#31688e"
          ],
          [
           0.4444444444444444,
           "#26828e"
          ],
          [
           0.5555555555555556,
           "#1f9e89"
          ],
          [
           0.6666666666666666,
           "#35b779"
          ],
          [
           0.7777777777777778,
           "#6ece58"
          ],
          [
           0.8888888888888888,
           "#b5de2b"
          ],
          [
           1,
           "#fde725"
          ]
         ],
         "hoverongaps": false,
         "type": "heatmap",
         "x": [
          "11-20",
          "21-30",
          "31-40",
          "41-50",
          "51-60",
          "61-70",
          "71-80",
          "81-90"
         ],
         "y": [
          1,
          2,
          3,
          4,
          5,
          6,
          7,
          8,
          9,
          10,
          11,
          12
         ],
         "z": [
          [],
          [],
          [],
          [],
          [],
          [],
          [],
          [],
          [],
          [],
          [],
          []
         ]
        }
       ],
       "layout": {
        "template": {
         "data": {
          "bar": [
           {
            "error_x": {
             "color": "#2a3f5f"
            },
            "error_y": {
             "color": "#2a3f5f"
            },
            "marker": {
             "line": {
              "color": "#E5ECF6",
              "width": 0.5
             }
            },
            "type": "bar"
           }
          ],
          "barpolar": [
           {
            "marker": {
             "line": {
              "color": "#E5ECF6",
              "width": 0.5
             }
            },
            "type": "barpolar"
           }
          ],
          "carpet": [
           {
            "aaxis": {
             "endlinecolor": "#2a3f5f",
             "gridcolor": "white",
             "linecolor": "white",
             "minorgridcolor": "white",
             "startlinecolor": "#2a3f5f"
            },
            "baxis": {
             "endlinecolor": "#2a3f5f",
             "gridcolor": "white",
             "linecolor": "white",
             "minorgridcolor": "white",
             "startlinecolor": "#2a3f5f"
            },
            "type": "carpet"
           }
          ],
          "choropleth": [
           {
            "colorbar": {
             "outlinewidth": 0,
             "ticks": ""
            },
            "type": "choropleth"
           }
          ],
          "contour": [
           {
            "colorbar": {
             "outlinewidth": 0,
             "ticks": ""
            },
            "colorscale": [
             [
              0,
              "#0d0887"
             ],
             [
              0.1111111111111111,
              "#46039f"
             ],
             [
              0.2222222222222222,
              "#7201a8"
             ],
             [
              0.3333333333333333,
              "#9c179e"
             ],
             [
              0.4444444444444444,
              "#bd3786"
             ],
             [
              0.5555555555555556,
              "#d8576b"
             ],
             [
              0.6666666666666666,
              "#ed7953"
             ],
             [
              0.7777777777777778,
              "#fb9f3a"
             ],
             [
              0.8888888888888888,
              "#fdca26"
             ],
             [
              1,
              "#f0f921"
             ]
            ],
            "type": "contour"
           }
          ],
          "contourcarpet": [
           {
            "colorbar": {
             "outlinewidth": 0,
             "ticks": ""
            },
            "type": "contourcarpet"
           }
          ],
          "heatmap": [
           {
            "colorbar": {
             "outlinewidth": 0,
             "ticks": ""
            },
            "colorscale": [
             [
              0,
              "#0d0887"
             ],
             [
              0.1111111111111111,
              "#46039f"
             ],
             [
              0.2222222222222222,
              "#7201a8"
             ],
             [
              0.3333333333333333,
              "#9c179e"
             ],
             [
              0.4444444444444444,
              "#bd3786"
             ],
             [
              0.5555555555555556,
              "#d8576b"
             ],
             [
              0.6666666666666666,
              "#ed7953"
             ],
             [
              0.7777777777777778,
              "#fb9f3a"
             ],
             [
              0.8888888888888888,
              "#fdca26"
             ],
             [
              1,
              "#f0f921"
             ]
            ],
            "type": "heatmap"
           }
          ],
          "heatmapgl": [
           {
            "colorbar": {
             "outlinewidth": 0,
             "ticks": ""
            },
            "colorscale": [
             [
              0,
              "#0d0887"
             ],
             [
              0.1111111111111111,
              "#46039f"
             ],
             [
              0.2222222222222222,
              "#7201a8"
             ],
             [
              0.3333333333333333,
              "#9c179e"
             ],
             [
              0.4444444444444444,
              "#bd3786"
             ],
             [
              0.5555555555555556,
              "#d8576b"
             ],
             [
              0.6666666666666666,
              "#ed7953"
             ],
             [
              0.7777777777777778,
              "#fb9f3a"
             ],
             [
              0.8888888888888888,
              "#fdca26"
             ],
             [
              1,
              "#f0f921"
             ]
            ],
            "type": "heatmapgl"
           }
          ],
          "histogram": [
           {
            "marker": {
             "colorbar": {
              "outlinewidth": 0,
              "ticks": ""
             }
            },
            "type": "histogram"
           }
          ],
          "histogram2d": [
           {
            "colorbar": {
             "outlinewidth": 0,
             "ticks": ""
            },
            "colorscale": [
             [
              0,
              "#0d0887"
             ],
             [
              0.1111111111111111,
              "#46039f"
             ],
             [
              0.2222222222222222,
              "#7201a8"
             ],
             [
              0.3333333333333333,
              "#9c179e"
             ],
             [
              0.4444444444444444,
              "#bd3786"
             ],
             [
              0.5555555555555556,
              "#d8576b"
             ],
             [
              0.6666666666666666,
              "#ed7953"
             ],
             [
              0.7777777777777778,
              "#fb9f3a"
             ],
             [
              0.8888888888888888,
              "#fdca26"
             ],
             [
              1,
              "#f0f921"
             ]
            ],
            "type": "histogram2d"
           }
          ],
          "histogram2dcontour": [
           {
            "colorbar": {
             "outlinewidth": 0,
             "ticks": ""
            },
            "colorscale": [
             [
              0,
              "#0d0887"
             ],
             [
              0.1111111111111111,
              "#46039f"
             ],
             [
              0.2222222222222222,
              "#7201a8"
             ],
             [
              0.3333333333333333,
              "#9c179e"
             ],
             [
              0.4444444444444444,
              "#bd3786"
             ],
             [
              0.5555555555555556,
              "#d8576b"
             ],
             [
              0.6666666666666666,
              "#ed7953"
             ],
             [
              0.7777777777777778,
              "#fb9f3a"
             ],
             [
              0.8888888888888888,
              "#fdca26"
             ],
             [
              1,
              "#f0f921"
             ]
            ],
            "type": "histogram2dcontour"
           }
          ],
          "mesh3d": [
           {
            "colorbar": {
             "outlinewidth": 0,
             "ticks": ""
            },
            "type": "mesh3d"
           }
          ],
          "parcoords": [
           {
            "line": {
             "colorbar": {
              "outlinewidth": 0,
              "ticks": ""
             }
            },
            "type": "parcoords"
           }
          ],
          "pie": [
           {
            "automargin": true,
            "type": "pie"
           }
          ],
          "scatter": [
           {
            "marker": {
             "colorbar": {
              "outlinewidth": 0,
              "ticks": ""
             }
            },
            "type": "scatter"
           }
          ],
          "scatter3d": [
           {
            "line": {
             "colorbar": {
              "outlinewidth": 0,
              "ticks": ""
             }
            },
            "marker": {
             "colorbar": {
              "outlinewidth": 0,
              "ticks": ""
             }
            },
            "type": "scatter3d"
           }
          ],
          "scattercarpet": [
           {
            "marker": {
             "colorbar": {
              "outlinewidth": 0,
              "ticks": ""
             }
            },
            "type": "scattercarpet"
           }
          ],
          "scattergeo": [
           {
            "marker": {
             "colorbar": {
              "outlinewidth": 0,
              "ticks": ""
             }
            },
            "type": "scattergeo"
           }
          ],
          "scattergl": [
           {
            "marker": {
             "colorbar": {
              "outlinewidth": 0,
              "ticks": ""
             }
            },
            "type": "scattergl"
           }
          ],
          "scattermapbox": [
           {
            "marker": {
             "colorbar": {
              "outlinewidth": 0,
              "ticks": ""
             }
            },
            "type": "scattermapbox"
           }
          ],
          "scatterpolar": [
           {
            "marker": {
             "colorbar": {
              "outlinewidth": 0,
              "ticks": ""
             }
            },
            "type": "scatterpolar"
           }
          ],
          "scatterpolargl": [
           {
            "marker": {
             "colorbar": {
              "outlinewidth": 0,
              "ticks": ""
             }
            },
            "type": "scatterpolargl"
           }
          ],
          "scatterternary": [
           {
            "marker": {
             "colorbar": {
              "outlinewidth": 0,
              "ticks": ""
             }
            },
            "type": "scatterternary"
           }
          ],
          "surface": [
           {
            "colorbar": {
             "outlinewidth": 0,
             "ticks": ""
            },
            "colorscale": [
             [
              0,
              "#0d0887"
             ],
             [
              0.1111111111111111,
              "#46039f"
             ],
             [
              0.2222222222222222,
              "#7201a8"
             ],
             [
              0.3333333333333333,
              "#9c179e"
             ],
             [
              0.4444444444444444,
              "#bd3786"
             ],
             [
              0.5555555555555556,
              "#d8576b"
             ],
             [
              0.6666666666666666,
              "#ed7953"
             ],
             [
              0.7777777777777778,
              "#fb9f3a"
             ],
             [
              0.8888888888888888,
              "#fdca26"
             ],
             [
              1,
              "#f0f921"
             ]
            ],
            "type": "surface"
           }
          ],
          "table": [
           {
            "cells": {
             "fill": {
              "color": "#EBF0F8"
             },
             "line": {
              "color": "white"
             }
            },
            "header": {
             "fill": {
              "color": "#C8D4E3"
             },
             "line": {
              "color": "white"
             }
            },
            "type": "table"
           }
          ]
         },
         "layout": {
          "annotationdefaults": {
           "arrowcolor": "#2a3f5f",
           "arrowhead": 0,
           "arrowwidth": 1
          },
          "autotypenumbers": "strict",
          "coloraxis": {
           "colorbar": {
            "outlinewidth": 0,
            "ticks": ""
           }
          },
          "colorscale": {
           "diverging": [
            [
             0,
             "#8e0152"
            ],
            [
             0.1,
             "#c51b7d"
            ],
            [
             0.2,
             "#de77ae"
            ],
            [
             0.3,
             "#f1b6da"
            ],
            [
             0.4,
             "#fde0ef"
            ],
            [
             0.5,
             "#f7f7f7"
            ],
            [
             0.6,
             "#e6f5d0"
            ],
            [
             0.7,
             "#b8e186"
            ],
            [
             0.8,
             "#7fbc41"
            ],
            [
             0.9,
             "#4d9221"
            ],
            [
             1,
             "#276419"
            ]
           ],
           "sequential": [
            [
             0,
             "#0d0887"
            ],
            [
             0.1111111111111111,
             "#46039f"
            ],
            [
             0.2222222222222222,
             "#7201a8"
            ],
            [
             0.3333333333333333,
             "#9c179e"
            ],
            [
             0.4444444444444444,
             "#bd3786"
            ],
            [
             0.5555555555555556,
             "#d8576b"
            ],
            [
             0.6666666666666666,
             "#ed7953"
            ],
            [
             0.7777777777777778,
             "#fb9f3a"
            ],
            [
             0.8888888888888888,
             "#fdca26"
            ],
            [
             1,
             "#f0f921"
            ]
           ],
           "sequentialminus": [
            [
             0,
             "#0d0887"
            ],
            [
             0.1111111111111111,
             "#46039f"
            ],
            [
             0.2222222222222222,
             "#7201a8"
            ],
            [
             0.3333333333333333,
             "#9c179e"
            ],
            [
             0.4444444444444444,
             "#bd3786"
            ],
            [
             0.5555555555555556,
             "#d8576b"
            ],
            [
             0.6666666666666666,
             "#ed7953"
            ],
            [
             0.7777777777777778,
             "#fb9f3a"
            ],
            [
             0.8888888888888888,
             "#fdca26"
            ],
            [
             1,
             "#f0f921"
            ]
           ]
          },
          "colorway": [
           "#636efa",
           "#EF553B",
           "#00cc96",
           "#ab63fa",
           "#FFA15A",
           "#19d3f3",
           "#FF6692",
           "#B6E880",
           "#FF97FF",
           "#FECB52"
          ],
          "font": {
           "color": "#2a3f5f"
          },
          "geo": {
           "bgcolor": "white",
           "lakecolor": "white",
           "landcolor": "#E5ECF6",
           "showlakes": true,
           "showland": true,
           "subunitcolor": "white"
          },
          "hoverlabel": {
           "align": "left"
          },
          "hovermode": "closest",
          "mapbox": {
           "style": "light"
          },
          "paper_bgcolor": "white",
          "plot_bgcolor": "#E5ECF6",
          "polar": {
           "angularaxis": {
            "gridcolor": "white",
            "linecolor": "white",
            "ticks": ""
           },
           "bgcolor": "#E5ECF6",
           "radialaxis": {
            "gridcolor": "white",
            "linecolor": "white",
            "ticks": ""
           }
          },
          "scene": {
           "xaxis": {
            "backgroundcolor": "#E5ECF6",
            "gridcolor": "white",
            "gridwidth": 2,
            "linecolor": "white",
            "showbackground": true,
            "ticks": "",
            "zerolinecolor": "white"
           },
           "yaxis": {
            "backgroundcolor": "#E5ECF6",
            "gridcolor": "white",
            "gridwidth": 2,
            "linecolor": "white",
            "showbackground": true,
            "ticks": "",
            "zerolinecolor": "white"
           },
           "zaxis": {
            "backgroundcolor": "#E5ECF6",
            "gridcolor": "white",
            "gridwidth": 2,
            "linecolor": "white",
            "showbackground": true,
            "ticks": "",
            "zerolinecolor": "white"
           }
          },
          "shapedefaults": {
           "line": {
            "color": "#2a3f5f"
           }
          },
          "ternary": {
           "aaxis": {
            "gridcolor": "white",
            "linecolor": "white",
            "ticks": ""
           },
           "baxis": {
            "gridcolor": "white",
            "linecolor": "white",
            "ticks": ""
           },
           "bgcolor": "#E5ECF6",
           "caxis": {
            "gridcolor": "white",
            "linecolor": "white",
            "ticks": ""
           }
          },
          "title": {
           "x": 0.05
          },
          "xaxis": {
           "automargin": true,
           "gridcolor": "white",
           "linecolor": "white",
           "ticks": "",
           "title": {
            "standoff": 15
           },
           "zerolinecolor": "white",
           "zerolinewidth": 2
          },
          "yaxis": {
           "automargin": true,
           "gridcolor": "white",
           "linecolor": "white",
           "ticks": "",
           "title": {
            "standoff": 15
           },
           "zerolinecolor": "white",
           "zerolinewidth": 2
          }
         }
        }
       }
      },
      "text/html": [
       "<div>                            <div id=\"3d02f0cd-c880-4b45-a6c1-9e033b9075f3\" class=\"plotly-graph-div\" style=\"height:525px; width:100%;\"></div>            <script type=\"text/javascript\">                require([\"plotly\"], function(Plotly) {                    window.PLOTLYENV=window.PLOTLYENV || {};                                    if (document.getElementById(\"3d02f0cd-c880-4b45-a6c1-9e033b9075f3\")) {                    Plotly.newPlot(                        \"3d02f0cd-c880-4b45-a6c1-9e033b9075f3\",                        [{\"colorscale\": [[0.0, \"#440154\"], [0.1111111111111111, \"#482878\"], [0.2222222222222222, \"#3e4989\"], [0.3333333333333333, \"#31688e\"], [0.4444444444444444, \"#26828e\"], [0.5555555555555556, \"#1f9e89\"], [0.6666666666666666, \"#35b779\"], [0.7777777777777778, \"#6ece58\"], [0.8888888888888888, \"#b5de2b\"], [1.0, \"#fde725\"]], \"hoverongaps\": false, \"type\": \"heatmap\", \"x\": [\"11-20\", \"21-30\", \"31-40\", \"41-50\", \"51-60\", \"61-70\", \"71-80\", \"81-90\"], \"y\": [1, 2, 3, 4, 5, 6, 7, 8, 9, 10, 11, 12], \"z\": [[], [], [], [], [], [], [], [], [], [], [], []]}],                        {\"template\": {\"data\": {\"bar\": [{\"error_x\": {\"color\": \"#2a3f5f\"}, \"error_y\": {\"color\": \"#2a3f5f\"}, \"marker\": {\"line\": {\"color\": \"#E5ECF6\", \"width\": 0.5}}, \"type\": \"bar\"}], \"barpolar\": [{\"marker\": {\"line\": {\"color\": \"#E5ECF6\", \"width\": 0.5}}, \"type\": \"barpolar\"}], \"carpet\": [{\"aaxis\": {\"endlinecolor\": \"#2a3f5f\", \"gridcolor\": \"white\", \"linecolor\": \"white\", \"minorgridcolor\": \"white\", \"startlinecolor\": \"#2a3f5f\"}, \"baxis\": {\"endlinecolor\": \"#2a3f5f\", \"gridcolor\": \"white\", \"linecolor\": \"white\", \"minorgridcolor\": \"white\", \"startlinecolor\": \"#2a3f5f\"}, \"type\": \"carpet\"}], \"choropleth\": [{\"colorbar\": {\"outlinewidth\": 0, \"ticks\": \"\"}, \"type\": \"choropleth\"}], \"contour\": [{\"colorbar\": {\"outlinewidth\": 0, \"ticks\": \"\"}, \"colorscale\": [[0.0, \"#0d0887\"], [0.1111111111111111, \"#46039f\"], [0.2222222222222222, \"#7201a8\"], [0.3333333333333333, \"#9c179e\"], [0.4444444444444444, \"#bd3786\"], [0.5555555555555556, \"#d8576b\"], [0.6666666666666666, \"#ed7953\"], [0.7777777777777778, \"#fb9f3a\"], [0.8888888888888888, \"#fdca26\"], [1.0, \"#f0f921\"]], \"type\": \"contour\"}], \"contourcarpet\": [{\"colorbar\": {\"outlinewidth\": 0, \"ticks\": \"\"}, \"type\": \"contourcarpet\"}], \"heatmap\": [{\"colorbar\": {\"outlinewidth\": 0, \"ticks\": \"\"}, \"colorscale\": [[0.0, \"#0d0887\"], [0.1111111111111111, \"#46039f\"], [0.2222222222222222, \"#7201a8\"], [0.3333333333333333, \"#9c179e\"], [0.4444444444444444, \"#bd3786\"], [0.5555555555555556, \"#d8576b\"], [0.6666666666666666, \"#ed7953\"], [0.7777777777777778, \"#fb9f3a\"], [0.8888888888888888, \"#fdca26\"], [1.0, \"#f0f921\"]], \"type\": \"heatmap\"}], \"heatmapgl\": [{\"colorbar\": {\"outlinewidth\": 0, \"ticks\": \"\"}, \"colorscale\": [[0.0, \"#0d0887\"], [0.1111111111111111, \"#46039f\"], [0.2222222222222222, \"#7201a8\"], [0.3333333333333333, \"#9c179e\"], [0.4444444444444444, \"#bd3786\"], [0.5555555555555556, \"#d8576b\"], [0.6666666666666666, \"#ed7953\"], [0.7777777777777778, \"#fb9f3a\"], [0.8888888888888888, \"#fdca26\"], [1.0, \"#f0f921\"]], \"type\": \"heatmapgl\"}], \"histogram\": [{\"marker\": {\"colorbar\": {\"outlinewidth\": 0, \"ticks\": \"\"}}, \"type\": \"histogram\"}], \"histogram2d\": [{\"colorbar\": {\"outlinewidth\": 0, \"ticks\": \"\"}, \"colorscale\": [[0.0, \"#0d0887\"], [0.1111111111111111, \"#46039f\"], [0.2222222222222222, \"#7201a8\"], [0.3333333333333333, \"#9c179e\"], [0.4444444444444444, \"#bd3786\"], [0.5555555555555556, \"#d8576b\"], [0.6666666666666666, \"#ed7953\"], [0.7777777777777778, \"#fb9f3a\"], [0.8888888888888888, \"#fdca26\"], [1.0, \"#f0f921\"]], \"type\": \"histogram2d\"}], \"histogram2dcontour\": [{\"colorbar\": {\"outlinewidth\": 0, \"ticks\": \"\"}, \"colorscale\": [[0.0, \"#0d0887\"], [0.1111111111111111, \"#46039f\"], [0.2222222222222222, \"#7201a8\"], [0.3333333333333333, \"#9c179e\"], [0.4444444444444444, \"#bd3786\"], [0.5555555555555556, \"#d8576b\"], [0.6666666666666666, \"#ed7953\"], [0.7777777777777778, \"#fb9f3a\"], [0.8888888888888888, \"#fdca26\"], [1.0, \"#f0f921\"]], \"type\": \"histogram2dcontour\"}], \"mesh3d\": [{\"colorbar\": {\"outlinewidth\": 0, \"ticks\": \"\"}, \"type\": \"mesh3d\"}], \"parcoords\": [{\"line\": {\"colorbar\": {\"outlinewidth\": 0, \"ticks\": \"\"}}, \"type\": \"parcoords\"}], \"pie\": [{\"automargin\": true, \"type\": \"pie\"}], \"scatter\": [{\"marker\": {\"colorbar\": {\"outlinewidth\": 0, \"ticks\": \"\"}}, \"type\": \"scatter\"}], \"scatter3d\": [{\"line\": {\"colorbar\": {\"outlinewidth\": 0, \"ticks\": \"\"}}, \"marker\": {\"colorbar\": {\"outlinewidth\": 0, \"ticks\": \"\"}}, \"type\": \"scatter3d\"}], \"scattercarpet\": [{\"marker\": {\"colorbar\": {\"outlinewidth\": 0, \"ticks\": \"\"}}, \"type\": \"scattercarpet\"}], \"scattergeo\": [{\"marker\": {\"colorbar\": {\"outlinewidth\": 0, \"ticks\": \"\"}}, \"type\": \"scattergeo\"}], \"scattergl\": [{\"marker\": {\"colorbar\": {\"outlinewidth\": 0, \"ticks\": \"\"}}, \"type\": \"scattergl\"}], \"scattermapbox\": [{\"marker\": {\"colorbar\": {\"outlinewidth\": 0, \"ticks\": \"\"}}, \"type\": \"scattermapbox\"}], \"scatterpolar\": [{\"marker\": {\"colorbar\": {\"outlinewidth\": 0, \"ticks\": \"\"}}, \"type\": \"scatterpolar\"}], \"scatterpolargl\": [{\"marker\": {\"colorbar\": {\"outlinewidth\": 0, \"ticks\": \"\"}}, \"type\": \"scatterpolargl\"}], \"scatterternary\": [{\"marker\": {\"colorbar\": {\"outlinewidth\": 0, \"ticks\": \"\"}}, \"type\": \"scatterternary\"}], \"surface\": [{\"colorbar\": {\"outlinewidth\": 0, \"ticks\": \"\"}, \"colorscale\": [[0.0, \"#0d0887\"], [0.1111111111111111, \"#46039f\"], [0.2222222222222222, \"#7201a8\"], [0.3333333333333333, \"#9c179e\"], [0.4444444444444444, \"#bd3786\"], [0.5555555555555556, \"#d8576b\"], [0.6666666666666666, \"#ed7953\"], [0.7777777777777778, \"#fb9f3a\"], [0.8888888888888888, \"#fdca26\"], [1.0, \"#f0f921\"]], \"type\": \"surface\"}], \"table\": [{\"cells\": {\"fill\": {\"color\": \"#EBF0F8\"}, \"line\": {\"color\": \"white\"}}, \"header\": {\"fill\": {\"color\": \"#C8D4E3\"}, \"line\": {\"color\": \"white\"}}, \"type\": \"table\"}]}, \"layout\": {\"annotationdefaults\": {\"arrowcolor\": \"#2a3f5f\", \"arrowhead\": 0, \"arrowwidth\": 1}, \"autotypenumbers\": \"strict\", \"coloraxis\": {\"colorbar\": {\"outlinewidth\": 0, \"ticks\": \"\"}}, \"colorscale\": {\"diverging\": [[0, \"#8e0152\"], [0.1, \"#c51b7d\"], [0.2, \"#de77ae\"], [0.3, \"#f1b6da\"], [0.4, \"#fde0ef\"], [0.5, \"#f7f7f7\"], [0.6, \"#e6f5d0\"], [0.7, \"#b8e186\"], [0.8, \"#7fbc41\"], [0.9, \"#4d9221\"], [1, \"#276419\"]], \"sequential\": [[0.0, \"#0d0887\"], [0.1111111111111111, \"#46039f\"], [0.2222222222222222, \"#7201a8\"], [0.3333333333333333, \"#9c179e\"], [0.4444444444444444, \"#bd3786\"], [0.5555555555555556, \"#d8576b\"], [0.6666666666666666, \"#ed7953\"], [0.7777777777777778, \"#fb9f3a\"], [0.8888888888888888, \"#fdca26\"], [1.0, \"#f0f921\"]], \"sequentialminus\": [[0.0, \"#0d0887\"], [0.1111111111111111, \"#46039f\"], [0.2222222222222222, \"#7201a8\"], [0.3333333333333333, \"#9c179e\"], [0.4444444444444444, \"#bd3786\"], [0.5555555555555556, \"#d8576b\"], [0.6666666666666666, \"#ed7953\"], [0.7777777777777778, \"#fb9f3a\"], [0.8888888888888888, \"#fdca26\"], [1.0, \"#f0f921\"]]}, \"colorway\": [\"#636efa\", \"#EF553B\", \"#00cc96\", \"#ab63fa\", \"#FFA15A\", \"#19d3f3\", \"#FF6692\", \"#B6E880\", \"#FF97FF\", \"#FECB52\"], \"font\": {\"color\": \"#2a3f5f\"}, \"geo\": {\"bgcolor\": \"white\", \"lakecolor\": \"white\", \"landcolor\": \"#E5ECF6\", \"showlakes\": true, \"showland\": true, \"subunitcolor\": \"white\"}, \"hoverlabel\": {\"align\": \"left\"}, \"hovermode\": \"closest\", \"mapbox\": {\"style\": \"light\"}, \"paper_bgcolor\": \"white\", \"plot_bgcolor\": \"#E5ECF6\", \"polar\": {\"angularaxis\": {\"gridcolor\": \"white\", \"linecolor\": \"white\", \"ticks\": \"\"}, \"bgcolor\": \"#E5ECF6\", \"radialaxis\": {\"gridcolor\": \"white\", \"linecolor\": \"white\", \"ticks\": \"\"}}, \"scene\": {\"xaxis\": {\"backgroundcolor\": \"#E5ECF6\", \"gridcolor\": \"white\", \"gridwidth\": 2, \"linecolor\": \"white\", \"showbackground\": true, \"ticks\": \"\", \"zerolinecolor\": \"white\"}, \"yaxis\": {\"backgroundcolor\": \"#E5ECF6\", \"gridcolor\": \"white\", \"gridwidth\": 2, \"linecolor\": \"white\", \"showbackground\": true, \"ticks\": \"\", \"zerolinecolor\": \"white\"}, \"zaxis\": {\"backgroundcolor\": \"#E5ECF6\", \"gridcolor\": \"white\", \"gridwidth\": 2, \"linecolor\": \"white\", \"showbackground\": true, \"ticks\": \"\", \"zerolinecolor\": \"white\"}}, \"shapedefaults\": {\"line\": {\"color\": \"#2a3f5f\"}}, \"ternary\": {\"aaxis\": {\"gridcolor\": \"white\", \"linecolor\": \"white\", \"ticks\": \"\"}, \"baxis\": {\"gridcolor\": \"white\", \"linecolor\": \"white\", \"ticks\": \"\"}, \"bgcolor\": \"#E5ECF6\", \"caxis\": {\"gridcolor\": \"white\", \"linecolor\": \"white\", \"ticks\": \"\"}}, \"title\": {\"x\": 0.05}, \"xaxis\": {\"automargin\": true, \"gridcolor\": \"white\", \"linecolor\": \"white\", \"ticks\": \"\", \"title\": {\"standoff\": 15}, \"zerolinecolor\": \"white\", \"zerolinewidth\": 2}, \"yaxis\": {\"automargin\": true, \"gridcolor\": \"white\", \"linecolor\": \"white\", \"ticks\": \"\", \"title\": {\"standoff\": 15}, \"zerolinecolor\": \"white\", \"zerolinewidth\": 2}}}},                        {\"responsive\": true}                    ).then(function(){\n",
       "                            \n",
       "var gd = document.getElementById('3d02f0cd-c880-4b45-a6c1-9e033b9075f3');\n",
       "var x = new MutationObserver(function (mutations, observer) {{\n",
       "        var display = window.getComputedStyle(gd).display;\n",
       "        if (!display || display === 'none') {{\n",
       "            console.log([gd, 'removed!']);\n",
       "            Plotly.purge(gd);\n",
       "            observer.disconnect();\n",
       "        }}\n",
       "}});\n",
       "\n",
       "// Listen for the removal of the full notebook cells\n",
       "var notebookContainer = gd.closest('#notebook-container');\n",
       "if (notebookContainer) {{\n",
       "    x.observe(notebookContainer, {childList: true});\n",
       "}}\n",
       "\n",
       "// Listen for the clearing of the current output cell\n",
       "var outputEl = gd.closest('.output');\n",
       "if (outputEl) {{\n",
       "    x.observe(outputEl, {childList: true});\n",
       "}}\n",
       "\n",
       "                        })                };                });            </script>        </div>"
      ]
     },
     "metadata": {},
     "output_type": "display_data"
    }
   ],
   "source": [
    "# heatmap\n",
    "\n",
    "distribution_dict = {}\n",
    "for index, row in ba_2020.iterrows():\n",
    "    if distribution_dict.get(row[\"Kreis\"]):\n",
    "        if distribution_dict[row[\"Kreis\"]].get(row[\"AlterVKurz\"]):\n",
    "            distribution_dict[row[\"Kreis\"]][row[\"AlterVKurz\"]] += 1\n",
    "        else:\n",
    "            distribution_dict[row[\"Kreis\"]][row[\"AlterVKurz\"]] = 1\n",
    "    else:\n",
    "        distribution_dict[row[\"Kreis\"]] = {}\n",
    "        distribution_dict[row[\"Kreis\"]][row[\"AlterVKurz\"]] = 1\n",
    "\n",
    "age_groups = ['11-20', '21-30', '31-40', '41-50', '51-60', '61-70', '71-80', '81-90']\n",
    "city_parts = list(range(1,13))\n",
    "\n",
    "full_list = []\n",
    "for key, value in enumerate(city_parts):\n",
    "    intermediate_list = []\n",
    "    for k,v in enumerate(age_groups):\n",
    "        if distribution_dict[value].get(v):\n",
    "            intermediate_list.append(distribution_dict[value][v])\n",
    "    full_list.append(intermediate_list)\n",
    "\n",
    "\n",
    "fig = go.Figure(data=go.Heatmap(\n",
    "                   z=full_list,\n",
    "                   x=age_groups,\n",
    "                   y=city_parts,\n",
    "                   hoverongaps = False,\n",
    "                   colorscale='Viridis'))\n",
    "fig.show()"
   ]
  },
  {
   "cell_type": "code",
   "execution_count": null,
   "id": "f676d1bc-10fe-42d0-ad06-8c2636215157",
   "metadata": {},
   "outputs": [],
   "source": []
  },
  {
   "cell_type": "code",
   "execution_count": null,
   "id": "2be3c457-42db-4bd5-9ce5-56085fcdd7af",
   "metadata": {},
   "outputs": [],
   "source": []
  }
 ],
 "metadata": {
  "kernelspec": {
   "display_name": "Python 3",
   "language": "python",
   "name": "python3"
  },
  "language_info": {
   "codemirror_mode": {
    "name": "ipython",
    "version": 3
   },
   "file_extension": ".py",
   "mimetype": "text/x-python",
   "name": "python",
   "nbconvert_exporter": "python",
   "pygments_lexer": "ipython3",
   "version": "3.8.8"
  }
 },
 "nbformat": 4,
 "nbformat_minor": 5
}
